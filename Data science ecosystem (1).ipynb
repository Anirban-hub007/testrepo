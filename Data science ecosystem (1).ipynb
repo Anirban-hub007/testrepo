{
 "cells": [
  {
   "cell_type": "markdown",
   "id": "ed9fe13a-08ab-4ba2-b272-306c993ba0e2",
   "metadata": {},
   "source": [
    "# Data Science Tools and Ecosystem "
   ]
  },
  {
   "cell_type": "markdown",
   "id": "1b179f74-afad-46e1-9aaf-3955e50a7ce6",
   "metadata": {},
   "source": [
    "In this notebook, Data Science Tools and Ecosystem are summarized "
   ]
  },
  {
   "cell_type": "markdown",
   "id": "b52594c9-bf1d-4b24-80c6-321ed79de0d9",
   "metadata": {},
   "source": [
    "### some of the popular languages that Data Scientists use are"
   ]
  },
  {
   "cell_type": "markdown",
   "id": "00429a08-e045-4bda-a362-4455a8d5fecb",
   "metadata": {},
   "source": [
    "1.Python\n",
    "2.SQL\n",
    "3.R"
   ]
  },
  {
   "cell_type": "markdown",
   "id": "931e65a9-ef52-48ec-a902-aa4b2e09dc88",
   "metadata": {},
   "source": [
    "#### Some of the Commomly used Liabraries used by Data Scientists include"
   ]
  },
  {
   "cell_type": "markdown",
   "id": "8f3b7b32-0904-4744-9719-af5cab351ca8",
   "metadata": {},
   "source": [
    "1. Numpy\n",
    "2. Pandas\n",
    "3. Seaborn\n",
    "4. Scikit-learn"
   ]
  },
  {
   "cell_type": "markdown",
   "id": "01240d35-9f48-49c4-9850-08758d800945",
   "metadata": {},
   "source": [
    "| tools used in data science |\n",
    "|---|\n",
    "| Python |\n",
    "| SQL |\n",
    "| R |"
   ]
  },
  {
   "cell_type": "markdown",
   "id": "e4ee14d4-b454-4217-82ea-6082c3ba50e9",
   "metadata": {},
   "source": [
    " ### Below are a few examples of evaluating arithmetic expressions in Python"
   ]
  },
  {
   "cell_type": "code",
   "execution_count": 11,
   "id": "62d6bcfc-8a3a-4324-adc6-79abee8c57f2",
   "metadata": {},
   "outputs": [
    {
     "data": {
      "text/plain": [
       "17"
      ]
     },
     "execution_count": 11,
     "metadata": {},
     "output_type": "execute_result"
    }
   ],
   "source": [
    "# This is a simple arithmetic expression to multiply then add integers\n",
    "(3*4)+5"
   ]
  },
  {
   "cell_type": "code",
   "execution_count": 12,
   "id": "375926df-1bea-46df-b5c2-f22f2c8d1250",
   "metadata": {},
   "outputs": [
    {
     "data": {
      "text/plain": [
       "3.3333333333333335"
      ]
     },
     "execution_count": 12,
     "metadata": {},
     "output_type": "execute_result"
    }
   ],
   "source": [
    "# This will convert 200 minutes to hours by dividing by 60\n",
    "200 / 60"
   ]
  },
  {
   "cell_type": "markdown",
   "id": "81e647c4-df26-4c9d-a23e-4216e3bc1079",
   "metadata": {},
   "source": [
    "## Author\n",
    "Anirban"
   ]
  },
  {
   "cell_type": "code",
   "execution_count": null,
   "id": "1c2d0d1a-93d2-4398-a1cb-5a02e9f2702a",
   "metadata": {},
   "outputs": [],
   "source": []
  }
 ],
 "metadata": {
  "kernelspec": {
   "display_name": "Python 3 (ipykernel)",
   "language": "python",
   "name": "python3"
  },
  "language_info": {
   "codemirror_mode": {
    "name": "ipython",
    "version": 3
   },
   "file_extension": ".py",
   "mimetype": "text/x-python",
   "name": "python",
   "nbconvert_exporter": "python",
   "pygments_lexer": "ipython3",
   "version": "3.12.8"
  }
 },
 "nbformat": 4,
 "nbformat_minor": 5
}
